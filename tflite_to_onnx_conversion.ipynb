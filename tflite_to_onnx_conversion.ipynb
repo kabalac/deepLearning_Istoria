{
 "cells": [
  {
   "cell_type": "code",
   "execution_count": 2,
   "metadata": {
    "id": "dy55Hvo_N_gh"
   },
   "outputs": [],
   "source": [
    "#importing necessary libraries\n",
    "import tensorflow as tf\n",
    "from tensorflow.keras import datasets, layers, models\n",
    "from tensorflow.keras.applications.inception_v3 import preprocess_input\n",
    "import matplotlib.pyplot as plt\n",
    "import numpy as np\n",
    "from tensorflow.keras.layers import Input, Lambda, Dense, Flatten\n",
    "from tensorflow.keras.models import Model\n",
    "from tensorflow.keras.preprocessing import image\n",
    "from tensorflow.keras.preprocessing.image import ImageDataGenerator, load_img\n",
    "from tensorflow.keras.models import Sequential\n",
    "from glob import glob\n",
    "import tensorflow_hub as hub\n",
    "import os\n",
    "import numpy as np"
   ]
  },
  {
   "cell_type": "code",
   "execution_count": 5,
   "metadata": {
    "colab": {
     "base_uri": "https://localhost:8080/"
    },
    "id": "Pdm-0a5LN-g5",
    "outputId": "41089dc5-d74b-4860-e61e-bceb0b7c610f"
   },
   "outputs": [
    {
     "name": "stdout",
     "output_type": "stream",
     "text": [
      "Requirement already satisfied: onnxruntime in /usr/local/lib/python3.7/dist-packages (1.9.0)\n",
      "Requirement already satisfied: protobuf in /usr/local/lib/python3.7/dist-packages (from onnxruntime) (3.17.3)\n",
      "Requirement already satisfied: numpy>=1.16.6 in /usr/local/lib/python3.7/dist-packages (from onnxruntime) (1.19.5)\n",
      "Requirement already satisfied: flatbuffers in /usr/local/lib/python3.7/dist-packages (from onnxruntime) (2.0)\n",
      "Requirement already satisfied: six>=1.9 in /usr/local/lib/python3.7/dist-packages (from protobuf->onnxruntime) (1.15.0)\n"
     ]
    }
   ],
   "source": [
    "!pip install onnxruntime"
   ]
  },
  {
   "cell_type": "code",
   "execution_count": 1,
   "metadata": {
    "colab": {
     "base_uri": "https://localhost:8080/"
    },
    "id": "EXu137M9Olg4",
    "outputId": "06a5d5b4-1996-4cf7-8b1c-a2d0d9545e9f"
   },
   "outputs": [
    {
     "name": "stdout",
     "output_type": "stream",
     "text": [
      "Requirement already satisfied: tf2onnx in /usr/local/lib/python3.7/dist-packages (1.9.3)\n",
      "Requirement already satisfied: six in /usr/local/lib/python3.7/dist-packages (from tf2onnx) (1.15.0)\n",
      "Requirement already satisfied: numpy>=1.14.1 in /usr/local/lib/python3.7/dist-packages (from tf2onnx) (1.19.5)\n",
      "Requirement already satisfied: flatbuffers~=1.12 in /usr/local/lib/python3.7/dist-packages (from tf2onnx) (1.12)\n",
      "Requirement already satisfied: onnx>=1.4.1 in /usr/local/lib/python3.7/dist-packages (from tf2onnx) (1.10.2)\n",
      "Requirement already satisfied: requests in /usr/local/lib/python3.7/dist-packages (from tf2onnx) (2.23.0)\n",
      "Requirement already satisfied: protobuf in /usr/local/lib/python3.7/dist-packages (from onnx>=1.4.1->tf2onnx) (3.17.3)\n",
      "Requirement already satisfied: typing-extensions>=3.6.2.1 in /usr/local/lib/python3.7/dist-packages (from onnx>=1.4.1->tf2onnx) (3.10.0.2)\n",
      "Requirement already satisfied: certifi>=2017.4.17 in /usr/local/lib/python3.7/dist-packages (from requests->tf2onnx) (2021.10.8)\n",
      "Requirement already satisfied: urllib3!=1.25.0,!=1.25.1,<1.26,>=1.21.1 in /usr/local/lib/python3.7/dist-packages (from requests->tf2onnx) (1.24.3)\n",
      "Requirement already satisfied: chardet<4,>=3.0.2 in /usr/local/lib/python3.7/dist-packages (from requests->tf2onnx) (3.0.4)\n",
      "Requirement already satisfied: idna<3,>=2.5 in /usr/local/lib/python3.7/dist-packages (from requests->tf2onnx) (2.10)\n"
     ]
    }
   ],
   "source": [
    "!pip install -U tf2onnx"
   ]
  },
  {
   "cell_type": "code",
   "execution_count": 2,
   "metadata": {
    "colab": {
     "base_uri": "https://localhost:8080/"
    },
    "id": "8MgOWiWKOllG",
    "outputId": "4e8dc8fe-c2f2-4bf1-aca2-4c675b49964e"
   },
   "outputs": [
    {
     "name": "stdout",
     "output_type": "stream",
     "text": [
      "Collecting git+https://github.com/onnx/tensorflow-onnx\n",
      "  Cloning https://github.com/onnx/tensorflow-onnx to /tmp/pip-req-build-j7_5vjmc\n",
      "  Running command git clone -q https://github.com/onnx/tensorflow-onnx /tmp/pip-req-build-j7_5vjmc\n",
      "Requirement already satisfied: numpy>=1.14.1 in /usr/local/lib/python3.7/dist-packages (from tf2onnx==1.10.0) (1.19.5)\n",
      "Requirement already satisfied: onnx>=1.4.1 in /usr/local/lib/python3.7/dist-packages (from tf2onnx==1.10.0) (1.10.2)\n",
      "Requirement already satisfied: requests in /usr/local/lib/python3.7/dist-packages (from tf2onnx==1.10.0) (2.23.0)\n",
      "Requirement already satisfied: six in /usr/local/lib/python3.7/dist-packages (from tf2onnx==1.10.0) (1.15.0)\n",
      "Requirement already satisfied: flatbuffers~=1.12 in /usr/local/lib/python3.7/dist-packages (from tf2onnx==1.10.0) (1.12)\n",
      "Requirement already satisfied: typing-extensions>=3.6.2.1 in /usr/local/lib/python3.7/dist-packages (from onnx>=1.4.1->tf2onnx==1.10.0) (3.10.0.2)\n",
      "Requirement already satisfied: protobuf in /usr/local/lib/python3.7/dist-packages (from onnx>=1.4.1->tf2onnx==1.10.0) (3.17.3)\n",
      "Requirement already satisfied: chardet<4,>=3.0.2 in /usr/local/lib/python3.7/dist-packages (from requests->tf2onnx==1.10.0) (3.0.4)\n",
      "Requirement already satisfied: urllib3!=1.25.0,!=1.25.1,<1.26,>=1.21.1 in /usr/local/lib/python3.7/dist-packages (from requests->tf2onnx==1.10.0) (1.24.3)\n",
      "Requirement already satisfied: certifi>=2017.4.17 in /usr/local/lib/python3.7/dist-packages (from requests->tf2onnx==1.10.0) (2021.10.8)\n",
      "Requirement already satisfied: idna<3,>=2.5 in /usr/local/lib/python3.7/dist-packages (from requests->tf2onnx==1.10.0) (2.10)\n",
      "Building wheels for collected packages: tf2onnx\n",
      "  Building wheel for tf2onnx (setup.py) ... \u001b[?25l\u001b[?25hdone\n",
      "  Created wheel for tf2onnx: filename=tf2onnx-1.10.0-py3-none-any.whl size=435728 sha256=6cf6fd58b031c3c5401271b4a47593c9f75263c1f0af738a4dc0cfdea8b2a064\n",
      "  Stored in directory: /tmp/pip-ephem-wheel-cache-82_qds59/wheels/73/99/8e/3034c9b47124da4ac24a6ea72b8da1be5af878e37c2e953bb3\n",
      "Successfully built tf2onnx\n",
      "Installing collected packages: tf2onnx\n",
      "  Attempting uninstall: tf2onnx\n",
      "    Found existing installation: tf2onnx 1.9.3\n",
      "    Uninstalling tf2onnx-1.9.3:\n",
      "      Successfully uninstalled tf2onnx-1.9.3\n",
      "Successfully installed tf2onnx-1.10.0\n"
     ]
    }
   ],
   "source": [
    "!pip install git+https://github.com/onnx/tensorflow-onnx"
   ]
  },
  {
   "cell_type": "code",
   "execution_count": 3,
   "metadata": {
    "colab": {
     "base_uri": "https://localhost:8080/"
    },
    "id": "qsk5V8QyOlog",
    "outputId": "8b9daa60-3b17-4d07-a916-fa9648c651e0"
   },
   "outputs": [
    {
     "name": "stdout",
     "output_type": "stream",
     "text": [
      "Cloning into 'tensorflow-onnx'...\n",
      "remote: Enumerating objects: 14833, done.\u001b[K\n",
      "remote: Counting objects: 100% (2055/2055), done.\u001b[K\n",
      "remote: Compressing objects: 100% (904/904), done.\u001b[K\n",
      "remote: Total 14833 (delta 1436), reused 1601 (delta 1097), pack-reused 12778\u001b[K\n",
      "Receiving objects: 100% (14833/14833), 26.71 MiB | 24.57 MiB/s, done.\n",
      "Resolving deltas: 100% (11135/11135), done.\n"
     ]
    }
   ],
   "source": [
    "!git clone https://github.com/onnx/tensorflow-onnx"
   ]
  },
  {
   "cell_type": "code",
   "execution_count": 4,
   "metadata": {
    "colab": {
     "base_uri": "https://localhost:8080/"
    },
    "id": "ZNqdkIjKOlrx",
    "outputId": "570f4028-dffb-401d-ceee-37d4d53c4b9b"
   },
   "outputs": [
    {
     "name": "stdout",
     "output_type": "stream",
     "text": [
      "running install\n",
      "running bdist_egg\n",
      "running egg_info\n",
      "creating tf2onnx.egg-info\n",
      "writing tf2onnx.egg-info/PKG-INFO\n",
      "writing dependency_links to tf2onnx.egg-info/dependency_links.txt\n",
      "writing requirements to tf2onnx.egg-info/requires.txt\n",
      "writing top-level names to tf2onnx.egg-info/top_level.txt\n",
      "writing manifest file 'tf2onnx.egg-info/SOURCES.txt'\n",
      "listing git files failed - pretending there aren't any\n",
      "reading manifest file 'tf2onnx.egg-info/SOURCES.txt'\n",
      "writing manifest file 'tf2onnx.egg-info/SOURCES.txt'\n",
      "installing library code to build/bdist.linux-x86_64/egg\n",
      "running install_lib\n",
      "warning: install_lib: 'build/lib' does not exist -- no Python modules to install\n",
      "\n",
      "creating build\n",
      "creating build/bdist.linux-x86_64\n",
      "creating build/bdist.linux-x86_64/egg\n",
      "creating build/bdist.linux-x86_64/egg/EGG-INFO\n",
      "copying tf2onnx.egg-info/PKG-INFO -> build/bdist.linux-x86_64/egg/EGG-INFO\n",
      "copying tf2onnx.egg-info/SOURCES.txt -> build/bdist.linux-x86_64/egg/EGG-INFO\n",
      "copying tf2onnx.egg-info/dependency_links.txt -> build/bdist.linux-x86_64/egg/EGG-INFO\n",
      "copying tf2onnx.egg-info/requires.txt -> build/bdist.linux-x86_64/egg/EGG-INFO\n",
      "copying tf2onnx.egg-info/top_level.txt -> build/bdist.linux-x86_64/egg/EGG-INFO\n",
      "zip_safe flag not set; analyzing archive contents...\n",
      "creating dist\n",
      "creating 'dist/tf2onnx-1.10.0-py3.7.egg' and adding 'build/bdist.linux-x86_64/egg' to it\n",
      "removing 'build/bdist.linux-x86_64/egg' (and everything under it)\n",
      "Processing tf2onnx-1.10.0-py3.7.egg\n",
      "Copying tf2onnx-1.10.0-py3.7.egg to /usr/local/lib/python3.7/dist-packages\n",
      "Adding tf2onnx 1.10.0 to easy-install.pth file\n",
      "\n",
      "Installed /usr/local/lib/python3.7/dist-packages/tf2onnx-1.10.0-py3.7.egg\n",
      "Processing dependencies for tf2onnx==1.10.0\n",
      "Searching for flatbuffers==1.12\n",
      "Best match: flatbuffers 1.12\n",
      "Adding flatbuffers 1.12 to easy-install.pth file\n",
      "\n",
      "Using /usr/local/lib/python3.7/dist-packages\n",
      "Searching for six==1.15.0\n",
      "Best match: six 1.15.0\n",
      "Adding six 1.15.0 to easy-install.pth file\n",
      "\n",
      "Using /usr/local/lib/python3.7/dist-packages\n",
      "Searching for requests==2.23.0\n",
      "Best match: requests 2.23.0\n",
      "Adding requests 2.23.0 to easy-install.pth file\n",
      "\n",
      "Using /usr/local/lib/python3.7/dist-packages\n",
      "Searching for onnx==1.10.2\n",
      "Best match: onnx 1.10.2\n",
      "Adding onnx 1.10.2 to easy-install.pth file\n",
      "Installing backend-test-tools script to /usr/local/bin\n",
      "Installing check-model script to /usr/local/bin\n",
      "Installing check-node script to /usr/local/bin\n",
      "\n",
      "Using /usr/local/lib/python3.7/dist-packages\n",
      "Searching for numpy==1.19.5\n",
      "Best match: numpy 1.19.5\n",
      "Adding numpy 1.19.5 to easy-install.pth file\n",
      "Installing f2py script to /usr/local/bin\n",
      "Installing f2py3 script to /usr/local/bin\n",
      "Installing f2py3.7 script to /usr/local/bin\n",
      "\n",
      "Using /usr/local/lib/python3.7/dist-packages\n",
      "Searching for chardet==3.0.4\n",
      "Best match: chardet 3.0.4\n",
      "Adding chardet 3.0.4 to easy-install.pth file\n",
      "Installing chardetect script to /usr/local/bin\n",
      "\n",
      "Using /usr/local/lib/python3.7/dist-packages\n",
      "Searching for certifi==2021.10.8\n",
      "Best match: certifi 2021.10.8\n",
      "Adding certifi 2021.10.8 to easy-install.pth file\n",
      "\n",
      "Using /usr/local/lib/python3.7/dist-packages\n",
      "Searching for idna==2.10\n",
      "Best match: idna 2.10\n",
      "Adding idna 2.10 to easy-install.pth file\n",
      "\n",
      "Using /usr/local/lib/python3.7/dist-packages\n",
      "Searching for urllib3==1.24.3\n",
      "Best match: urllib3 1.24.3\n",
      "Adding urllib3 1.24.3 to easy-install.pth file\n",
      "\n",
      "Using /usr/local/lib/python3.7/dist-packages\n",
      "Searching for protobuf==3.17.3\n",
      "Best match: protobuf 3.17.3\n",
      "Adding protobuf 3.17.3 to easy-install.pth file\n",
      "\n",
      "Using /usr/local/lib/python3.7/dist-packages\n",
      "Searching for typing-extensions==3.10.0.2\n",
      "Best match: typing-extensions 3.10.0.2\n",
      "Adding typing-extensions 3.10.0.2 to easy-install.pth file\n",
      "\n",
      "Using /usr/local/lib/python3.7/dist-packages\n",
      "Finished processing dependencies for tf2onnx==1.10.0\n"
     ]
    }
   ],
   "source": [
    "!python /content/tensorflow-onnx/setup.py install"
   ]
  },
  {
   "cell_type": "code",
   "execution_count": 5,
   "metadata": {
    "colab": {
     "base_uri": "https://localhost:8080/"
    },
    "id": "ipllimqPOltC",
    "outputId": "2f1ce187-e778-4e8e-fcfd-881dae3bf522"
   },
   "outputs": [
    {
     "name": "stdout",
     "output_type": "stream",
     "text": [
      "running bdist_wheel\n",
      "running build\n",
      "running build_py\n",
      "running create_version\n",
      "installing to build/bdist.linux-x86_64/wheel\n",
      "running install\n",
      "running install_egg_info\n",
      "running egg_info\n",
      "writing tf2onnx.egg-info/PKG-INFO\n",
      "writing dependency_links to tf2onnx.egg-info/dependency_links.txt\n",
      "writing requirements to tf2onnx.egg-info/requires.txt\n",
      "writing top-level names to tf2onnx.egg-info/top_level.txt\n",
      "listing git files failed - pretending there aren't any\n",
      "reading manifest file 'tf2onnx.egg-info/SOURCES.txt'\n",
      "writing manifest file 'tf2onnx.egg-info/SOURCES.txt'\n",
      "Copying tf2onnx.egg-info to build/bdist.linux-x86_64/wheel/tf2onnx-1.10.0-py3.7.egg-info\n",
      "running install_scripts\n",
      "creating build/bdist.linux-x86_64/wheel/tf2onnx-1.10.0.dist-info/WHEEL\n",
      "creating 'dist/tf2onnx-1.10.0-py3-none-any.whl' and adding 'build/bdist.linux-x86_64/wheel' to it\n",
      "adding 'tf2onnx-1.10.0.dist-info/METADATA'\n",
      "adding 'tf2onnx-1.10.0.dist-info/WHEEL'\n",
      "adding 'tf2onnx-1.10.0.dist-info/top_level.txt'\n",
      "adding 'tf2onnx-1.10.0.dist-info/RECORD'\n",
      "removing build/bdist.linux-x86_64/wheel\n"
     ]
    }
   ],
   "source": [
    "!python /content/tensorflow-onnx/setup.py bdist_wheel"
   ]
  },
  {
   "cell_type": "code",
   "execution_count": 6,
   "metadata": {
    "colab": {
     "base_uri": "https://localhost:8080/"
    },
    "id": "MWJFzOmKOluj",
    "outputId": "1ff854e6-fdff-4dbe-e982-446327fce63d"
   },
   "outputs": [
    {
     "name": "stdout",
     "output_type": "stream",
     "text": [
      "/usr/lib/python3.7/runpy.py:125: RuntimeWarning: 'tf2onnx.convert' found in sys.modules after import of package 'tf2onnx', but prior to execution of 'tf2onnx.convert'; this may result in unpredictable behaviour\n",
      "  warn(RuntimeWarning(msg))\n",
      "2021-11-24 18:37:48,803 - INFO - Using tensorflow=2.7.0, onnx=1.10.2, tf2onnx=1.10.0/d018aa\n",
      "2021-11-24 18:37:48,803 - INFO - Using opset <onnx, 11>\n",
      "2021-11-24 18:37:49,741 - INFO - Optimizing ONNX model\n",
      "2021-11-24 18:37:52,287 - INFO - After optimization: Const -151 (339->188), GlobalAveragePool +1 (0->1), Identity -1 (1->0), ReduceMean -1 (1->0), Reshape -30 (30->0), Squeeze +1 (0->1), Transpose -364 (365->1)\n",
      "2021-11-24 18:37:52,409 - INFO - \n",
      "2021-11-24 18:37:52,409 - INFO - Successfully converted TensorFlow model /content/drive/MyDrive/model_sculpture.tflite to ONNX\n",
      "2021-11-24 18:37:52,410 - INFO - Model inputs: ['keras_layer_input']\n",
      "2021-11-24 18:37:52,410 - INFO - Model outputs: ['Identity']\n",
      "2021-11-24 18:37:52,410 - INFO - ONNX model is saved at model_sculpture.onnx\n"
     ]
    }
   ],
   "source": [
    "#after running few pip commands tflite model is converted to ONNX model\n",
    "!python -m tf2onnx.convert --opset 11 --tflite /content/drive/MyDrive/model_sculpture.tflite --output model_sculpture.onnx"
   ]
  },
  {
   "cell_type": "code",
   "execution_count": null,
   "metadata": {
    "id": "mlTIUbNoOlzH"
   },
   "outputs": [],
   "source": []
  }
 ],
 "metadata": {
  "colab": {
   "name": "Untitled2.ipynb",
   "provenance": []
  },
  "kernelspec": {
   "display_name": "Python 3 (ipykernel)",
   "language": "python",
   "name": "python3"
  },
  "language_info": {
   "codemirror_mode": {
    "name": "ipython",
    "version": 3
   },
   "file_extension": ".py",
   "mimetype": "text/x-python",
   "name": "python",
   "nbconvert_exporter": "python",
   "pygments_lexer": "ipython3",
   "version": "3.9.6"
  }
 },
 "nbformat": 4,
 "nbformat_minor": 1
}
