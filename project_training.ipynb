{
 "cells": [
  {
   "cell_type": "code",
   "execution_count": 2,
   "metadata": {
    "id": "EEq1MdewOSvH"
   },
   "outputs": [],
   "source": [
    "#importing all necessary libraries\n",
    "import tensorflow as tf\n",
    "from tensorflow.keras import datasets, layers, models\n",
    "from tensorflow.keras.applications.inception_v3 import preprocess_input\n",
    "import matplotlib.pyplot as plt\n",
    "import numpy as np\n",
    "from tensorflow.keras.layers import Input, Lambda, Dense, Flatten\n",
    "from tensorflow.keras.models import Model\n",
    "from tensorflow.keras.preprocessing import image\n",
    "from tensorflow.keras.preprocessing.image import ImageDataGenerator, load_img\n",
    "from tensorflow.keras.models import Sequential\n",
    "from glob import glob\n",
    "import tensorflow_hub as hub\n",
    "import os\n",
    "import numpy as np"
   ]
  },
  {
   "cell_type": "code",
   "execution_count": 3,
   "metadata": {
    "colab": {
     "base_uri": "https://localhost:8080/"
    },
    "id": "5UsUztuJfF97",
    "outputId": "fd44dd13-3e3e-4770-b420-a00011a5a5be"
   },
   "outputs": [
    {
     "name": "stdout",
     "output_type": "stream",
     "text": [
      "/Users/karthibalasundaram/Downloads/UD SculptureDataset\n"
     ]
    }
   ],
   "source": [
    "# defining and declaring the directory\n",
    "base_dir = '/Users/karthibalasundaram/Downloads/UD SculptureDataset'\n",
    "print(base_dir)\n",
    "train_dir = os.path.join(base_dir, 'TRAIN')\n",
    "validation_dir = os.path.join(base_dir, 'VALIDATION')"
   ]
  },
  {
   "cell_type": "code",
   "execution_count": 28,
   "metadata": {
    "colab": {
     "base_uri": "https://localhost:8080/"
    },
    "id": "f8HWIb3mfXhK",
    "outputId": "d4b38143-cec3-4a3d-9213-3a768157bec2"
   },
   "outputs": [
    {
     "name": "stdout",
     "output_type": "stream",
     "text": [
      "Found 3615 images belonging to 24 classes.\n",
      "Found 385 images belonging to 24 classes.\n"
     ]
    }
   ],
   "source": [
    "import keras_preprocessing\n",
    "from keras_preprocessing import image\n",
    "from keras_preprocessing.image import ImageDataGenerator\n",
    "#using image data generator to normalize all the images\n",
    "train_datagen = ImageDataGenerator(rescale= 1./255, rotation_range=90)\n",
    "validation = ImageDataGenerator(rescale= 1./255, rotation_range=90)\n",
    "train_data = train_datagen.flow_from_directory(train_dir,\n",
    "                                                 target_size = (224,224),\n",
    "                                                 batch_size = 34,\n",
    "                                                 class_mode = 'categorical')\n",
    "\n",
    "val_data = validation.flow_from_directory(validation_dir,\n",
    "                                                 target_size = (224,224),\n",
    "                                                 batch_size = 34,\n",
    "                                                 class_mode = 'categorical')"
   ]
  },
  {
   "cell_type": "code",
   "execution_count": 5,
   "metadata": {
    "colab": {
     "base_uri": "https://localhost:8080/"
    },
    "id": "ovbCFWJhu5H3",
    "outputId": "5f3cfe37-cda9-4409-fa37-a521c1fdb886",
    "scrolled": false
   },
   "outputs": [
    {
     "data": {
      "text/plain": [
       "{'CHRIST THE TEACHER': 0,\n",
       " 'DANTE': 1,\n",
       " 'HAIL MARY': 2,\n",
       " 'HONOR ROLL': 3,\n",
       " 'JANE AUSTEN': 4,\n",
       " 'JOHN F. KENNEDY': 5,\n",
       " 'KAPPA ALPHA PSI': 6,\n",
       " 'KNIGHT BY BROTHER MEL': 7,\n",
       " 'LADY OF THE PINES': 8,\n",
       " 'MARTIN LUTHER KING JR': 9,\n",
       " 'MARY LOUISA': 10,\n",
       " 'MARY OF CANA': 11,\n",
       " 'MARY, SEAT OF WISDOM': 12,\n",
       " 'MOSES MAIMONIDES': 13,\n",
       " 'OMEGA POINT': 14,\n",
       " 'RED CUBE': 15,\n",
       " 'SERENITY PINES': 16,\n",
       " 'THE HOLY FAMILY': 17,\n",
       " 'THOMAS EQUINAS': 18,\n",
       " 'THRONE BY BROTHER MEL': 19,\n",
       " 'TRUSTING IN DREAMS': 20,\n",
       " 'WILLIAM JOSEPH CHAMINADE': 21,\n",
       " 'WILLIAM SHAKESPEARE': 22,\n",
       " 'WOLFGANG AMADEUS MOZART': 23}"
      ]
     },
     "execution_count": 5,
     "metadata": {},
     "output_type": "execute_result"
    }
   ],
   "source": [
    "#checking the class and their indices\n",
    "train_data.class_indices"
   ]
  },
  {
   "cell_type": "code",
   "execution_count": 7,
   "metadata": {
    "colab": {
     "base_uri": "https://localhost:8080/"
    },
    "id": "S6ZUV8H6gHLl",
    "outputId": "5d2fc157-7203-403b-95bc-6feecadd0521",
    "scrolled": false
   },
   "outputs": [
    {
     "name": "stderr",
     "output_type": "stream",
     "text": [
      "2021-11-23 11:18:15.869788: I tensorflow/core/platform/cpu_feature_guard.cc:142] This TensorFlow binary is optimized with oneAPI Deep Neural Network Library (oneDNN) to use the following CPU instructions in performance-critical operations:  AVX2 FMA\n",
      "To enable them in other operations, rebuild TensorFlow with the appropriate compiler flags.\n",
      "2021-11-23 11:18:18.132270: I tensorflow/compiler/mlir/mlir_graph_optimization_pass.cc:185] None of the MLIR Optimization Passes are enabled (registered 2)\n"
     ]
    },
    {
     "name": "stdout",
     "output_type": "stream",
     "text": [
      "Model: \"sequential\"\n",
      "_________________________________________________________________\n",
      "Layer (type)                 Output Shape              Param #   \n",
      "=================================================================\n",
      "keras_layer (KerasLayer)     (1, 1280)                 11837936  \n",
      "_________________________________________________________________\n",
      "dense (Dense)                (1, 24)                   30744     \n",
      "=================================================================\n",
      "Total params: 11,868,680\n",
      "Trainable params: 30,744\n",
      "Non-trainable params: 11,837,936\n",
      "_________________________________________________________________\n",
      "Epoch 1/5\n",
      "107/107 [==============================] - 992s 9s/step - loss: 0.9426 - accuracy: 0.7859 - val_loss: 1.6775 - val_accuracy: 0.7948\n",
      "Epoch 2/5\n",
      "107/107 [==============================] - 930s 9s/step - loss: 0.1855 - accuracy: 0.9690 - val_loss: 1.7994 - val_accuracy: 0.8130\n",
      "Epoch 3/5\n",
      "107/107 [==============================] - 935s 9s/step - loss: 0.1044 - accuracy: 0.9853 - val_loss: 1.8898 - val_accuracy: 0.8208\n",
      "Epoch 4/5\n",
      "107/107 [==============================] - 948s 9s/step - loss: 0.0691 - accuracy: 0.9939 - val_loss: 1.9521 - val_accuracy: 0.8208\n",
      "Epoch 5/5\n",
      "107/107 [==============================] - 975s 9s/step - loss: 0.0496 - accuracy: 0.9956 - val_loss: 2.0247 - val_accuracy: 0.8208\n"
     ]
    }
   ],
   "source": [
    "#defining the pre-trained model and training it\n",
    "base_model = hub.KerasLayer(\"https://tfhub.dev/tensorflow/efficientnet/lite4/feature-vector/2\",\n",
    "                                   trainable=False)\n",
    "\n",
    "model = tf.keras.Sequential([\n",
    "        base_model,\n",
    "        tf.keras.layers.Dense(24, activation='softmax')\n",
    "])\n",
    "model.build([1,224,224,3])\n",
    "model.summary()\n",
    "\n",
    "model.compile(optimizer='adam',\n",
    "                  loss='categorical_crossentropy',\n",
    "                  metrics=['accuracy'])\n",
    "\n",
    "\n",
    "\n",
    "history = model.fit(train_data, epochs=5,validation_data=val_data)"
   ]
  },
  {
   "cell_type": "code",
   "execution_count": 9,
   "metadata": {
    "scrolled": true
   },
   "outputs": [
    {
     "name": "stdout",
     "output_type": "stream",
     "text": [
      "Epoch 1/5\n",
      "107/107 [==============================] - 833s 8s/step - loss: 0.0372 - accuracy: 0.9981 - val_loss: 2.1080 - val_accuracy: 0.8208\n",
      "Epoch 2/5\n",
      "107/107 [==============================] - 905s 8s/step - loss: 0.0289 - accuracy: 0.9981 - val_loss: 2.1118 - val_accuracy: 0.8208\n",
      "Epoch 3/5\n",
      "107/107 [==============================] - 876s 8s/step - loss: 0.0233 - accuracy: 0.9992 - val_loss: 2.1702 - val_accuracy: 0.8234\n",
      "Epoch 4/5\n",
      "107/107 [==============================] - 849s 8s/step - loss: 0.0195 - accuracy: 0.9992 - val_loss: 2.2245 - val_accuracy: 0.8208\n",
      "Epoch 5/5\n",
      "107/107 [==============================] - 842s 8s/step - loss: 0.0161 - accuracy: 0.9994 - val_loss: 2.2428 - val_accuracy: 0.8234\n"
     ]
    }
   ],
   "source": [
    "#running the 2nd set of 5 epochs\n",
    "history = model.fit(train_data, epochs=5,validation_data=val_data)"
   ]
  },
  {
   "cell_type": "code",
   "execution_count": 29,
   "metadata": {
    "scrolled": true
   },
   "outputs": [
    {
     "name": "stdout",
     "output_type": "stream",
     "text": [
      "Epoch 1/5\n",
      "107/107 [==============================] - 913s 9s/step - loss: 0.2546 - accuracy: 0.9272 - val_loss: 2.1596 - val_accuracy: 0.8000\n",
      "Epoch 2/5\n",
      "107/107 [==============================] - 975s 9s/step - loss: 0.0899 - accuracy: 0.9754 - val_loss: 2.2337 - val_accuracy: 0.8052\n",
      "Epoch 3/5\n",
      "107/107 [==============================] - 926s 9s/step - loss: 0.0680 - accuracy: 0.9834 - val_loss: 2.4009 - val_accuracy: 0.8130\n",
      "Epoch 4/5\n",
      "107/107 [==============================] - 996s 9s/step - loss: 0.0554 - accuracy: 0.9895 - val_loss: 2.4488 - val_accuracy: 0.8104\n",
      "Epoch 5/5\n",
      "107/107 [==============================] - 981s 9s/step - loss: 0.0435 - accuracy: 0.9920 - val_loss: 2.3965 - val_accuracy: 0.8130\n"
     ]
    }
   ],
   "source": [
    "#running the 3rd set of 5 epochs\n",
    "history = model.fit(train_data, epochs=5,validation_data=val_data)"
   ]
  },
  {
   "cell_type": "code",
   "execution_count": 30,
   "metadata": {
    "scrolled": true
   },
   "outputs": [
    {
     "name": "stdout",
     "output_type": "stream",
     "text": [
      "Epoch 1/5\n",
      "107/107 [==============================] - 934s 9s/step - loss: 0.0381 - accuracy: 0.9923 - val_loss: 2.5617 - val_accuracy: 0.8104\n",
      "Epoch 2/5\n",
      "107/107 [==============================] - 917s 9s/step - loss: 0.0345 - accuracy: 0.9925 - val_loss: 2.6257 - val_accuracy: 0.8182\n",
      "Epoch 3/5\n",
      "107/107 [==============================] - 954s 9s/step - loss: 0.0276 - accuracy: 0.9953 - val_loss: 2.5037 - val_accuracy: 0.8208\n",
      "Epoch 4/5\n",
      "107/107 [==============================] - 906s 8s/step - loss: 0.0244 - accuracy: 0.9961 - val_loss: 2.5626 - val_accuracy: 0.8104\n",
      "Epoch 5/5\n",
      "107/107 [==============================] - 2794s 26s/step - loss: 0.0270 - accuracy: 0.9950 - val_loss: 2.6271 - val_accuracy: 0.8182\n"
     ]
    }
   ],
   "source": [
    "#running the 4th set of 5 epochs\n",
    "history = model.fit(train_data, epochs=5,validation_data=val_data)"
   ]
  },
  {
   "cell_type": "code",
   "execution_count": 66,
   "metadata": {},
   "outputs": [],
   "source": [
    "#defining the values of accuracy and loss to be plotted\n",
    "acc = history.history ['accuracy']\n",
    "val_acc = history.history ['val_accuracy']\n",
    "loss = history.history ['loss']\n",
    "val_loss = history.history ['val_loss']\n",
    "epochs = range(len(acc))"
   ]
  },
  {
   "cell_type": "code",
   "execution_count": 82,
   "metadata": {
    "scrolled": true
   },
   "outputs": [
    {
     "data": {
      "image/png": "[encoded data removed]",
      "text/plain": [
       "<Figure size 432x288 with 1 Axes>"
      ]
     },
     "metadata": {
      "needs_background": "light"
     },
     "output_type": "display_data"
    }
   ],
   "source": [
    "#training and validation accuracy graph\n",
    "plt.plot ( epochs, acc)\n",
    "plt.plot ( epochs, val_acc)\n",
    "plt.xlabel( 'each 1.0 = 5 epochs')\n",
    "plt.ylabel( 'accuracy')\n",
    "plt.title('Training and validation accuracy')\n",
    "plt.show()"
   ]
  },
  {
   "cell_type": "code",
   "execution_count": 83,
   "metadata": {
    "scrolled": false
   },
   "outputs": [
    {
     "data": {
      "image/png": "[encoded data removed]",
      "text/plain": [
       "<Figure size 432x288 with 1 Axes>"
      ]
     },
     "metadata": {
      "needs_background": "light"
     },
     "output_type": "display_data"
    }
   ],
   "source": [
    "#train and validation loss graph\n",
    "plt.plot( epochs, loss)\n",
    "plt.plot( epochs, val_loss)\n",
    "plt.xlabel( 'each 1.0 = 5 epochs')\n",
    "plt.ylabel( 'loss')\n",
    "plt.title('Loss graph')\n",
    "plt.show()"
   ]
  },
  {
   "cell_type": "code",
   "execution_count": 85,
   "metadata": {
    "scrolled": true
   },
   "outputs": [
    {
     "data": {
      "text/plain": [
       "[<matplotlib.lines.Line2D at 0x7f9f4c181be0>]"
      ]
     },
     "execution_count": 85,
     "metadata": {},
     "output_type": "execute_result"
    },
    {
     "data": {
      "image/png": "[encoded data removed]",
      "text/plain": [
       "<Figure size 432x288 with 1 Axes>"
      ]
     },
     "metadata": {
      "needs_background": "light"
     },
     "output_type": "display_data"
    }
   ],
   "source": [
    "#training accuracy\n",
    "plt.title('Training accuracy')\n",
    "plt.xlabel('each 1.0 = 5 epochs')\n",
    "plt.ylabel('accuracy')\n",
    "plt.plot ( epochs, acc)"
   ]
  },
  {
   "cell_type": "code",
   "execution_count": 103,
   "metadata": {
    "scrolled": true
   },
   "outputs": [
    {
     "data": {
      "text/plain": [
       "[<matplotlib.lines.Line2D at 0x7f9f4c9f9070>]"
      ]
     },
     "execution_count": 103,
     "metadata": {},
     "output_type": "execute_result"
    },
    {
     "data": {
      "image/png": "[encoded data removed]",
      "text/plain": [
       "<Figure size 432x288 with 1 Axes>"
      ]
     },
     "metadata": {
      "needs_background": "light"
     },
     "output_type": "display_data"
    }
   ],
   "source": [
    "#validation accuracy\n",
    "plt.title('Validation accuracy')\n",
    "plt.ylim(0.3,0.9)\n",
    "plt.xlabel( 'each 1.0 = 5 epochs')\n",
    "plt.ylabel('accuracy')\n",
    "plt.plot ( epochs, val_acc)"
   ]
  },
  {
   "cell_type": "code",
   "execution_count": 98,
   "metadata": {},
   "outputs": [
    {
     "data": {
      "image/png": "[encoded data removed]",
      "text/plain": [
       "<Figure size 432x288 with 1 Axes>"
      ]
     },
     "metadata": {
      "needs_background": "light"
     },
     "output_type": "display_data"
    }
   ],
   "source": [
    "#training loss\n",
    "plt.plot( epochs, loss)\n",
    "plt.xlabel( 'each 1.0 = 5 epochs')\n",
    "plt.ylabel( 'loss')\n",
    "plt.title('Training Loss')\n",
    "plt.show()"
   ]
  },
  {
   "cell_type": "code",
   "execution_count": 92,
   "metadata": {},
   "outputs": [
    {
     "data": {
      "image/png": "[encoded data removed]",
      "text/plain": [
       "<Figure size 432x288 with 1 Axes>"
      ]
     },
     "metadata": {
      "needs_background": "light"
     },
     "output_type": "display_data"
    }
   ],
   "source": [
    "#validation loss\n",
    "plt.plot( epochs, val_loss)\n",
    "plt.ylim(2,4)\n",
    "plt.xlabel( 'each 1.0 = 5 epochs')\n",
    "plt.ylabel( 'loss')\n",
    "plt.title('Validation Loss')\n",
    "plt.show()"
   ]
  },
  {
   "cell_type": "code",
   "execution_count": 32,
   "metadata": {
    "colab": {
     "base_uri": "https://localhost:8080/"
    },
    "id": "1xjtQDzA42bY",
    "outputId": "26b86368-2325-4e07-bd51-3ad4f0af6695",
    "scrolled": false
   },
   "outputs": [
    {
     "name": "stdout",
     "output_type": "stream",
     "text": [
      "INFO:tensorflow:Assets written to: /var/folders/rg/xn4sr_5n2_zff6f04ghb6dnm0000gn/T/tmpuolk_hho/assets\n"
     ]
    },
    {
     "name": "stderr",
     "output_type": "stream",
     "text": [
      "INFO:tensorflow:Assets written to: /var/folders/rg/xn4sr_5n2_zff6f04ghb6dnm0000gn/T/tmpuolk_hho/assets\n",
      "2021-11-27 16:19:35.480223: I tensorflow/core/grappler/devices.cc:75] Number of eligible GPUs (core count >= 8, compute capability >= 0.0): 0 (Note: TensorFlow was not compiled with CUDA or ROCm support)\n",
      "2021-11-27 16:19:35.480315: I tensorflow/core/grappler/clusters/single_machine.cc:357] Starting new session\n",
      "2021-11-27 16:19:35.589554: I tensorflow/core/grappler/optimizers/meta_optimizer.cc:1137] Optimization results for grappler item: graph_to_optimize\n",
      "  function_optimizer: Graph size after: 1682 nodes (1216), 1706 edges (1238), time = 71.467ms.\n",
      "  function_optimizer: function_optimizer did nothing. time = 2.661ms.\n",
      "\n",
      "2021-11-27 16:19:39.614551: W tensorflow/compiler/mlir/lite/python/tf_tfl_flatbuffer_helpers.cc:351] Ignored output_format.\n",
      "2021-11-27 16:19:39.614600: W tensorflow/compiler/mlir/lite/python/tf_tfl_flatbuffer_helpers.cc:354] Ignored drop_control_dependency.\n",
      "2021-11-27 16:19:40.313885: I tensorflow/compiler/mlir/lite/flatbuffer_export.cc:1899] Estimated count of arithmetic ops: 2.710 G  ops, equivalently 1.355 G  MACs\n"
     ]
    }
   ],
   "source": [
    "converter = tf.lite.TFLiteConverter.from_keras_model(model)\n",
    "tflite_model = converter.convert()\n",
    "\n",
    "# Saving the tflile model which will then be converted into ONNX model\n",
    "    with open('sculpture.tflite', 'wb') as f:\n",
    "  f.write(tflite_model)"
   ]
  },
  {
   "cell_type": "code",
   "execution_count": null,
   "metadata": {},
   "outputs": [],
   "source": []
  }
 ],
 "metadata": {
  "colab": {
   "collapsed_sections": [],
   "name": "Bird_Tensorboard_Lite.ipynb",
   "provenance": []
  },
  "kernelspec": {
   "display_name": "Python 3 (ipykernel)",
   "language": "python",
   "name": "python3"
  },
  "language_info": {
   "codemirror_mode": {
    "name": "ipython",
    "version": 3
   },
   "file_extension": ".py",
   "mimetype": "text/x-python",
   "name": "python",
   "nbconvert_exporter": "python",
   "pygments_lexer": "ipython3",
   "version": "3.9.6"
  }
 },
 "nbformat": 4,
 "nbformat_minor": 1
}
